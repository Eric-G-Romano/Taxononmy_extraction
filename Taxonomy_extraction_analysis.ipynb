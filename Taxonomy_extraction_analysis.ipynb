{
 "cells": [
  {
   "cell_type": "markdown",
   "metadata": {},
   "source": [
    "# Problem statement:\n",
    "Extract the taxonomy code and specialty associated with that code"
   ]
  },
  {
   "cell_type": "code",
   "execution_count": 37,
   "metadata": {},
   "outputs": [],
   "source": [
    "# import libaries\n",
    "import PyPDF2 as pdf\n",
    "import pandas as pd\n",
    "import pathlib\n",
    "import re \n"
   ]
  },
  {
   "cell_type": "code",
   "execution_count": 7,
   "metadata": {},
   "outputs": [],
   "source": [
    "# Create an opener which accepts a PDF file path\n",
    "opener = open(\"taxonomy_22_0.pdf\", 'rb')\n",
    "reader = pdf.PdfFileReader(opener)\n"
   ]
  },
  {
   "cell_type": "code",
   "execution_count": 10,
   "metadata": {},
   "outputs": [
    {
     "data": {
      "text/plain": [
       "'HEALTH CARE PROVIDER TAXONOMY CODE SET VERSION 22.0\\nAllopathic & Osteopathic Physicians\\nAllergy & Immunology\\nAllergy & Immunology Physician 207K00000X\\nAn allergist-immunologist is trained in evaluation, physical and laboratory diagnosis, and management of \\ndisorders involving the immune system. Selected examples of such conditions include asthma, \\nanaphylaxis, rhinitis, eczema, and adverse reactions to drugs, foods, and insect stings as well as immune \\ndeficiency diseases (both acquired and congenital), defects in host defense, and problems related to \\nautoimmune disease, organ transplantation, or malignancies of the immune system.\\nSource: American Board of Medical Specialties, 2007, www.abms.org  [7/1/2007: added definition, added \\nsource]  Additional Resources: American Board of Allergy and Immunology, 2007.  http://www.abai.org/   \\nNo subspecialty certificates in allergy and immunology are offered by the American Board of Allergy and \\nImmunology (ABAI). The ABAI, however, does offer formal special pathways for physicians seeking dual \\ncertification in allergy/immunology and pediatric pulmonology; allergy/immunology and pediatric \\nrheumatology; and allergy/immunology and adult rheumatology.\\n4/1/2003 7/1/2007 Last Modified Date Effective Date\\nAllergy Specialization:\\nAllergy Physician 207KA0200X\\nDefinition to come...\\n4/1/2003 Effective Date\\nClinical & Laboratory Immunology Specialization:\\nClinical & Laboratory Immunology (Allergy & Immunology) Physician 207KI0005X\\nDefinition to come...\\n4/1/2003 Effective Date\\n2 JANUARY 2022'"
      ]
     },
     "execution_count": 10,
     "metadata": {},
     "output_type": "execute_result"
    }
   ],
   "source": [
    "page1 = reader.getPage(1)\n",
    "page1.extractText()"
   ]
  },
  {
   "cell_type": "code",
   "execution_count": 63,
   "metadata": {},
   "outputs": [],
   "source": [
    "def taxonomy_extractor(pdf_file):\n",
    "    opener = open(pdf_file, 'rb')\n",
    "    reader = pdf.PdfFileReader(opener)\n",
    "    \n",
    "    text = ''\n",
    "    for page in reader.pages:\n",
    "        text += page.extractText()\n",
    "        \n",
    "    sentence_list = re.split('\\n', text)\n",
    "    \n",
    "    taxonomy_list = []\n",
    "    for i in sentence_list:\n",
    "        if i.endswith('X'):\n",
    "            taxonomy_list.append(i)\n",
    "    \n",
    "    specialization_list = []\n",
    "    specialization_code_list = []\n",
    "    for x in taxonomy_list:\n",
    "        specialization_list.append(\" \".join(x.split(' ')[:-1]))\n",
    "        specialization_code_list.append(x.split(' ')[-1])\n",
    "    \n",
    "    taxonomy_dataframe = pd.DataFrame({'Specialization': specialization_list,\n",
    "                                       'Code': specialization_code_list})\n",
    "    \n",
    "    return taxonomy_dataframe"
   ]
  },
  {
   "cell_type": "code",
   "execution_count": 65,
   "metadata": {},
   "outputs": [],
   "source": [
    "taxonomy_extractor(\"taxonomy_22_0.pdf\").to_excel(\"output.xlsx\", sheet_name='Sheet_name_1')"
   ]
  },
  {
   "cell_type": "code",
   "execution_count": null,
   "metadata": {},
   "outputs": [],
   "source": [
    "# import libaries\n",
    "import PyPDF2 as pdf\n",
    "import pandas as pd\n",
    "import pathlib\n",
    "import re \n",
    "\n",
    "\n",
    "pathfile = float(input(\"Input file path of the Taxonomy document\"))\n",
    "\n",
    "def taxonomy_extractor(pdf_file):\n",
    "    opener = open(pdf_file, 'rb')\n",
    "    reader = pdf.PdfFileReader(opener)\n",
    "    \n",
    "    text = ''\n",
    "    for page in reader.pages:\n",
    "        text += page.extractText()\n",
    "        \n",
    "    sentence_list = re.split('\\n', text)\n",
    "    \n",
    "    taxonomy_list = []\n",
    "    for i in sentence_list:\n",
    "        if i.endswith('X'):\n",
    "            taxonomy_list.append(i)\n",
    "    \n",
    "    specialization_list = []\n",
    "    specialization_code_list = []\n",
    "    for x in taxonomy_list:\n",
    "        specialization_list.append(\" \".join(x.split(' ')[:-1]))\n",
    "        specialization_code_list.append(x.split(' ')[-1])\n",
    "    \n",
    "    taxonomy_dataframe = pd.DataFrame({'Specialization': specialization_list,\n",
    "                                       'Code': specialization_code_list})\n",
    "    \n",
    "    return taxonomy_dataframe\n",
    "\n",
    "taxonomy_extractor(pathfile).to_excel(\"output.xlsx\", sheet_name='Sheet_name_1')\n",
    "\n",
    "input(\"Check if excel file was created with the title output, if so press any key to exit\")"
   ]
  }
 ],
 "metadata": {
  "kernelspec": {
   "display_name": "Python 3.10.7 64-bit",
   "language": "python",
   "name": "python3"
  },
  "language_info": {
   "codemirror_mode": {
    "name": "ipython",
    "version": 3
   },
   "file_extension": ".py",
   "mimetype": "text/x-python",
   "name": "python",
   "nbconvert_exporter": "python",
   "pygments_lexer": "ipython3",
   "version": "3.10.7"
  },
  "orig_nbformat": 4,
  "vscode": {
   "interpreter": {
    "hash": "3fcec740ad89be9b3d537a6718800068ed898947d4bd7ae0eaaa53c540bdac91"
   }
  }
 },
 "nbformat": 4,
 "nbformat_minor": 2
}
